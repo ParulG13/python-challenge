{
 "cells": [
  {
   "cell_type": "code",
   "execution_count": 4,
   "metadata": {},
   "outputs": [
    {
     "name": "stdout",
     "output_type": "stream",
     "text": [
      "Financial Analysis\n",
      "----------------------------\n",
      "Total Months: 86\n",
      "Total: 38382578\n",
      "Average  Change: $-2315.12\n",
      "Greatest Increase in Profits: Feb-2012 ($1926159)\n",
      "Greatest Decrease in Profits: Sep-2013 ($-2196167)\n"
     ]
    }
   ],
   "source": [
    "import csv\n",
    "import os\n",
    "\n",
    "# input file\n",
    "file_path = os.path.join(\"budget_data.csv\")\n",
    "\n",
    "#output file\n",
    "output_file_path = \"budget_data_analysis.txt\"\n",
    "\n",
    "#open file in write mode\n",
    "outFile = open(output_file_path, \"w+\")\n",
    "\n",
    "# function to write output in console and file\n",
    "def printOutput(vLine):\n",
    "  print(vLine)\n",
    "  outFile.write(vLine)\n",
    "  outFile.write(\"\\n\")\n",
    "\n",
    "# read file\n",
    "with open(file_path, 'r') as inputFile:\n",
    "    input_read = csv.reader(inputFile, delimiter=',')\n",
    "    # ignore the header\n",
    "    csv_header = next(input_read)\n",
    "    # print(f\"CSV Header: {csv_header}\")\n",
    "    totalMonths = 0\n",
    "    total = 0\n",
    "    previous_value = 0\n",
    "    change_d = {}\n",
    "\n",
    "    #iterate through the given data row by row\n",
    "    for row in input_read:\n",
    "        # number of rows is total months\n",
    "        totalMonths = totalMonths + 1\n",
    "        #sum of all profit/loss is the total\n",
    "        total = int(row[1]) + total\n",
    "\n",
    "        current_value = int(row[1])\n",
    "        # calculate each profit/loss change\n",
    "        change_value = current_value - previous_value\n",
    "\n",
    "        #dict will store change value and corresponding date\n",
    "        change_d[change_value] = row[0]\n",
    "        previous_value = current_value\n",
    "\n",
    "    #get largest key for greatest increase\n",
    "    greatest_inc = max(change_d.keys())\n",
    "    greatest_inc_date = change_d.get(greatest_inc)\n",
    "    #get smallest key for greatest decrease\n",
    "    greatest_dec = min(change_d.keys())\n",
    "    greatest_dec_date = change_d.get(greatest_dec)\n",
    "\n",
    "    #to calculate total change sum all the changes\n",
    "    #but not the first one, so remove the [0] key from dict\n",
    "    changed_l = list(change_d.keys())\n",
    "    del changed_l[0]\n",
    "    average_change = round(sum(changed_l)/len(changed_l),2)\n",
    "\n",
    "\n",
    "\n",
    "# display output\n",
    "printOutput(\"Financial Analysis\")\n",
    "printOutput(\"----------------------------\")\n",
    "printOutput(\"Total Months: {}\".format(totalMonths))\n",
    "printOutput(\"Total: {}\".format(total))\n",
    "printOutput(\"Average  Change: ${}\".format(average_change))\n",
    "printOutput(\"Greatest Increase in Profits: {} (${})\".format(greatest_inc_date, greatest_inc))\n",
    "printOutput(\"Greatest Decrease in Profits: {} (${})\".format(greatest_dec_date, greatest_dec))"
   ]
  },
  {
   "cell_type": "code",
   "execution_count": null,
   "metadata": {},
   "outputs": [],
   "source": []
  },
  {
   "cell_type": "code",
   "execution_count": null,
   "metadata": {},
   "outputs": [],
   "source": []
  }
 ],
 "metadata": {
  "kernelspec": {
   "display_name": "Python 3",
   "language": "python",
   "name": "python3"
  },
  "language_info": {
   "codemirror_mode": {
    "name": "ipython",
    "version": 3
   },
   "file_extension": ".py",
   "mimetype": "text/x-python",
   "name": "python",
   "nbconvert_exporter": "python",
   "pygments_lexer": "ipython3",
   "version": "3.7.3"
  }
 },
 "nbformat": 4,
 "nbformat_minor": 4
}

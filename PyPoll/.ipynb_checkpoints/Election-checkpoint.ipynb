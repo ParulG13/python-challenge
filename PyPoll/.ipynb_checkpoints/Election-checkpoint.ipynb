{
 "cells": [
  {
   "cell_type": "code",
   "execution_count": 57,
   "metadata": {},
   "outputs": [
    {
     "name": "stdout",
     "output_type": "stream",
     "text": [
      "Election Results\n",
      "---------------------------\n",
      "Total Votes: 3521001\n",
      "---------------------------\n",
      "Khan : 63.000% (2218231)\n",
      "Correy : 20.000% (704200)\n",
      "Li : 14.000% (492940)\n",
      "O'Tooley : 3.000% (105630)\n",
      "---------------------------\n",
      "Winner: Khan\n",
      "---------------------------\n"
     ]
    }
   ],
   "source": [
    "import csv\n",
    "import os\n",
    "\n",
    "# input file\n",
    "file_path = os.path.join(\"election_data.csv\")\n",
    "#output file\n",
    "output_file_path = \"election_data_analysis.txt\"\n",
    "\n",
    "#open file in write mode\n",
    "outFile = open(output_file_path, \"w+\")\n",
    "\n",
    "# function to write output in console and file\n",
    "def printOutput(vLine):\n",
    "  print(vLine)\n",
    "  outFile.write(vLine)\n",
    "  outFile.write(\"\\n\")\n",
    "\n",
    "#dict for storing key as candidate names and value as number of votes\n",
    "candidate_vote_count_d = {}\n",
    "\n",
    "# read file\n",
    "with open(file_path, 'r') as input_file:\n",
    "    input_read = csv.reader(input_file, delimiter=',')\n",
    "    # ignore the header\n",
    "    csv_header = next(input_read)\n",
    "\n",
    "    total_votes = 0\n",
    "    vote_count = 0\n",
    "\n",
    "    # access row by row data from file\n",
    "    for row in input_read:\n",
    "        candidate_name = row[2]\n",
    "        total_votes = total_votes + 1\n",
    "\n",
    "        # Increment candidate vote count\n",
    "        if candidate_name in candidate_vote_count_d:\n",
    "            vote_count = candidate_vote_count_d.get(candidate_name)\n",
    "            vote_count = vote_count + 1\n",
    "            candidate_vote_count_d[candidate_name] = vote_count\n",
    "\n",
    "        # get the candidate names as key for the first time\n",
    "        else:\n",
    "            candidate_vote_count_d[candidate_name] = 1\n",
    "\n",
    "    # calculate percentage for each candidate\n",
    "    # display winner\n",
    "\n",
    "# display output\n",
    "printOutput(\"Election Results\")\n",
    "printOutput(\"---------------------------\")\n",
    "printOutput(\"Total Votes: {}\".format(total_votes))\n",
    "printOutput(\"---------------------------\")\n",
    "for candidate, votes in candidate_vote_count_d.items():\n",
    "    # get vote percenatge and format to round and print 3decimals\n",
    "    vote_percent = format((votes / total_votes) * 100, '.3f')\n",
    "    printOutput(\"{} : {}% ({})\".format(candidate, vote_percent, votes))\n",
    "    # find the winner\n",
    "    winner_votes = max(candidate_vote_count_d.values())\n",
    "    if votes == winner_votes:\n",
    "        winner = candidate\n",
    "printOutput(\"---------------------------\")\n",
    "printOutput(\"Winner: {}\".format(winner))\n",
    "printOutput(\"---------------------------\")"
   ]
  },
  {
   "cell_type": "code",
   "execution_count": null,
   "metadata": {},
   "outputs": [],
   "source": []
  },
  {
   "cell_type": "code",
   "execution_count": null,
   "metadata": {},
   "outputs": [],
   "source": []
  },
  {
   "cell_type": "code",
   "execution_count": null,
   "metadata": {},
   "outputs": [],
   "source": []
  }
 ],
 "metadata": {
  "kernelspec": {
   "display_name": "Python 3",
   "language": "python",
   "name": "python3"
  },
  "language_info": {
   "codemirror_mode": {
    "name": "ipython",
    "version": 3
   },
   "file_extension": ".py",
   "mimetype": "text/x-python",
   "name": "python",
   "nbconvert_exporter": "python",
   "pygments_lexer": "ipython3",
   "version": "3.7.3"
  }
 },
 "nbformat": 4,
 "nbformat_minor": 4
}
